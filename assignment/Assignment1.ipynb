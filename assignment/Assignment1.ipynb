{
 "cells": [
  {
   "cell_type": "code",
   "execution_count": null,
   "id": "fde931ec-3d8f-4497-8f24-c04465e7a971",
   "metadata": {},
   "outputs": [],
   "source": [
    "#1) What are the types of Applications? \n",
    "\"\"\"\n",
    "1)Desktop Applications\n",
    "2)Web Applications\n",
    "3)Mobile Applications\n",
    "4)Cloud Applications\n",
    "\"\"\""
   ]
  },
  {
   "cell_type": "code",
   "execution_count": null,
   "id": "46afab42-64bc-46cc-8593-2bc70a04c265",
   "metadata": {},
   "outputs": [],
   "source": [
    "#2) What is programing?\n",
    "\"\"\"\n",
    "Programming is the process of writing code to create software, applications, or systems that a computer can execute.\n",
    "It involves using programming languages like Python, Java, or C++ to give the computer specific instructions.\n",
    "\"\"\""
   ]
  },
  {
   "cell_type": "code",
   "execution_count": null,
   "id": "aee3bbd3-8fa0-49e4-94f1-f4bb1ca78beb",
   "metadata": {},
   "outputs": [],
   "source": [
    "#3)What is Python?\n",
    "\"\"\"\n",
    "Python is a simple, versatile programming language used for web development, data analysis, AI, and more.\n",
    "It's easy to learn and has a wide range of libraries and frameworks.\n",
    "\"\"\""
   ]
  },
  {
   "cell_type": "code",
   "execution_count": 21,
   "id": "89d0c55a-bdb0-483b-9169-70419dd74c65",
   "metadata": {
    "scrolled": true
   },
   "outputs": [
    {
     "name": "stdin",
     "output_type": "stream",
     "text": [
      "Enter a number: -10\n"
     ]
    },
    {
     "name": "stdout",
     "output_type": "stream",
     "text": [
      "The number is negative.\n"
     ]
    }
   ],
   "source": [
    "#4) Write a Python program to check if a number is positive, negative or zero. \n",
    "\n",
    "a1 = int(input(\"Enter a number:\"))\n",
    "\n",
    "if a1 > 0:\n",
    "    print(\"The number is positive.\")\n",
    "elif a1 < 0:\n",
    "    print(\"The number is negative.\")\n",
    "else:\n",
    "    print(\"The number is zero.\")"
   ]
  },
  {
   "cell_type": "code",
   "execution_count": 137,
   "id": "d9260490-504c-4aae-b9b8-b7d5e2ce86a5",
   "metadata": {},
   "outputs": [
    {
     "name": "stdin",
     "output_type": "stream",
     "text": [
      "Enter a number:  5\n"
     ]
    },
    {
     "name": "stdout",
     "output_type": "stream",
     "text": [
      "Factorial is:  120\n"
     ]
    }
   ],
   "source": [
    "#5)Write a Python program to get the Factorial number of given numbers. \n",
    "\n",
    "a2 = int(input(\"Enter a number: \"))\n",
    "\n",
    "if a2 < 0:\n",
    "    print(\"Factorial is not for negative numbers.\")\n",
    "else:\n",
    "    factorial = 1\n",
    "    for i in range(1, a2 + 1):\n",
    "        factorial *= i\n",
    "\n",
    "    print(\"Factorial is: \",factorial)"
   ]
  },
  {
   "cell_type": "code",
   "execution_count": 29,
   "id": "b409bbcc-21e0-43c2-a764-7d7ed36d06be",
   "metadata": {},
   "outputs": [
    {
     "name": "stdin",
     "output_type": "stream",
     "text": [
      "Enter the range:  5\n"
     ]
    },
    {
     "name": "stdout",
     "output_type": "stream",
     "text": [
      "0 1 1 2 3 "
     ]
    }
   ],
   "source": [
    "#6) Write a Python program to get the Fibonacci series of given range. \n",
    "\n",
    "a3 = int(input(\"Enter the range: \"))\n",
    "\n",
    "a, b = 0, 1\n",
    "\n",
    "for i in range(a3):\n",
    "    print(a, end=\" \")\n",
    "    a, b = b, a + b\n"
   ]
  },
  {
   "cell_type": "code",
   "execution_count": null,
   "id": "59f1644c-9471-4872-a84e-4b483c27efa5",
   "metadata": {},
   "outputs": [],
   "source": [
    "#7) How memory is managed in Python?\n",
    "\"\"\"\n",
    "In Python, memory is managed automatically:\n",
    "1. Reference Counting:\n",
    "    Every object tracks how many references point to it.\n",
    "    When no references are left, the memory is freed.\n",
    "\n",
    "2. Garbage Collection:\n",
    "    Python also cleans up objects that can't be cleaned by reference counting,\n",
    "    like objects that reference each other.\n",
    "\"\"\""
   ]
  },
  {
   "cell_type": "code",
   "execution_count": 1,
   "id": "f8131e08-29e1-4d86-a154-ddf0879ed190",
   "metadata": {},
   "outputs": [
    {
     "name": "stdout",
     "output_type": "stream",
     "text": [
      "1\n",
      "2\n",
      "3\n",
      "4\n",
      "6\n",
      "7\n",
      "8\n",
      "9\n",
      "10\n"
     ]
    }
   ],
   "source": [
    "#8) What is the purpose continuing statement in python? \n",
    "\"\"\"\n",
    "Skip the rest of the loop's code for the current iteration and move to the next iteration.\n",
    "It helps you avoid unnecessary code execution when a certain condition is met, improving code clarity and efficiency.\n",
    "\"\"\"\n",
    "for i in range(1, 11):\n",
    "    if i == 5:\n",
    "        continue\n",
    "    print(i)"
   ]
  },
  {
   "cell_type": "code",
   "execution_count": 5,
   "id": "b23d345d-ed53-4e9a-bcfa-0ee5b4eca294",
   "metadata": {},
   "outputs": [
    {
     "name": "stdin",
     "output_type": "stream",
     "text": [
      "Enter the number for a:  10\n",
      "Enter the number for b:  8\n"
     ]
    },
    {
     "name": "stdout",
     "output_type": "stream",
     "text": [
      "Before swapping: a = 10 , b = 8\n",
      "After swapping: a = 8 , b = 10\n"
     ]
    }
   ],
   "source": [
    "#9) Write python program that swap two number with temp variable and without temp variable. \n",
    "\n",
    "#swapping with a Temporary Variable:\n",
    "a = int(input(\"Enter the number for a: \"))\n",
    "b = int(input(\"Enter the number for b: \"))\n",
    "\n",
    "print(\"Before swapping: a =\", a, \", b =\", b)\n",
    "\n",
    "temp = a\n",
    "a = b\n",
    "b = temp\n",
    "\n",
    "print(\"After swapping: a =\", a, \", b =\", b)"
   ]
  },
  {
   "cell_type": "code",
   "execution_count": 35,
   "id": "3fded974-eb8e-40e9-9d05-c142d95d1981",
   "metadata": {},
   "outputs": [
    {
     "name": "stdin",
     "output_type": "stream",
     "text": [
      "Enter the number for a:  10\n",
      "Enter the number for b:  20\n"
     ]
    },
    {
     "name": "stdout",
     "output_type": "stream",
     "text": [
      "Before swapping: a = 10 , b = 20\n",
      "After swapping: a = 20 , b = 10\n"
     ]
    }
   ],
   "source": [
    "# Swapping without using a temporary variable\n",
    "\n",
    "a = int(input(\"Enter the number for a: \"))\n",
    "b = int(input(\"Enter the number for b: \"))\n",
    "\n",
    "print(\"Before swapping: a =\", a, \", b =\", b)\n",
    "\n",
    "a, b = b, a\n",
    "\n",
    "print(\"After swapping: a =\", a, \", b =\", b)\n",
    "\n",
    "# a = int(input(\"Enter the number for a: \"))\n",
    "# b = int(input(\"Enter the number for b: \"))\n",
    "\n",
    "# print(\"Before swapping: a =\", a, \", b =\", b)\n",
    "# print(\"After swapping: a =\", b, \", b =\", a)\n"
   ]
  },
  {
   "cell_type": "code",
   "execution_count": 9,
   "id": "10d0fb6a-cacb-43be-8a12-c46ddd232172",
   "metadata": {},
   "outputs": [
    {
     "name": "stdin",
     "output_type": "stream",
     "text": [
      "Enter a number:  10\n"
     ]
    },
    {
     "name": "stdout",
     "output_type": "stream",
     "text": [
      "10 is an even number.\n"
     ]
    }
   ],
   "source": [
    "#10) Write a Python program to find whether a given number is even or odd, print out an appropriate message to the user.\n",
    "\n",
    "a1 = int(input(\"Enter a number: \"))\n",
    "\n",
    "if a1 % 2 == 0:\n",
    "    print(a1, \"is an even number.\")\n",
    "else:\n",
    "    print(a1, \"is an odd number.\")"
   ]
  },
  {
   "cell_type": "code",
   "execution_count": 43,
   "id": "5ece943c-8320-4c95-a233-08dba511647c",
   "metadata": {},
   "outputs": [
    {
     "name": "stdin",
     "output_type": "stream",
     "text": [
      "Enter a letter:  a\n"
     ]
    },
    {
     "name": "stdout",
     "output_type": "stream",
     "text": [
      "a is a vowel.\n"
     ]
    }
   ],
   "source": [
    "#11) Write a Python program to test whether a passed letter is a vowel or not. \n",
    "\n",
    "a2 = input(\"Enter a letter: \")\n",
    "\n",
    "if a2 in 'aeiouAEIOU':\n",
    "    print(a2, \"is a vowel.\")\n",
    "else:\n",
    "    print(a2, \"is not a vowel.\")\n"
   ]
  },
  {
   "cell_type": "code",
   "execution_count": 13,
   "id": "8f5dd89c-8bb2-47d8-acdb-3281719633cd",
   "metadata": {},
   "outputs": [
    {
     "name": "stdin",
     "output_type": "stream",
     "text": [
      "Enter first number:  10\n",
      "Enter second number:  10\n",
      "Enter third number:  30\n"
     ]
    },
    {
     "name": "stdout",
     "output_type": "stream",
     "text": [
      "0\n"
     ]
    }
   ],
   "source": [
    "#12) Write a Python program to sum of three given integers. However, if two values are equal sum will be zero.\n",
    "\n",
    "a = int(input(\"Enter first number: \"))\n",
    "b = int(input(\"Enter second number: \"))\n",
    "c = int(input(\"Enter third number: \"))\n",
    "\n",
    "if a == b or b == c or a == c:\n",
    "    print(0)\n",
    "else:\n",
    "    print(\"sum: \",a + b + c)\n"
   ]
  },
  {
   "cell_type": "code",
   "execution_count": 61,
   "id": "574d7784-83b3-4f94-9fa6-b0fc5a3d57c3",
   "metadata": {},
   "outputs": [
    {
     "name": "stdin",
     "output_type": "stream",
     "text": [
      "Enter first number:  15\n",
      "Enter second number:  10\n"
     ]
    },
    {
     "name": "stdout",
     "output_type": "stream",
     "text": [
      "True\n"
     ]
    }
   ],
   "source": [
    "#13) Write a Python program that will return true if the two given integer values are equal or their sum or difference is 5.\n",
    "\n",
    "a = int(input(\"Enter first number: \"))\n",
    "b = int(input(\"Enter second number: \"))\n",
    "\n",
    "if a == b or a + b == 5 or a - b == 5:\n",
    "    print(True)\n",
    "else:\n",
    "    print(False)\n"
   ]
  },
  {
   "cell_type": "code",
   "execution_count": 15,
   "id": "fbd21235-3b10-4d6b-a4b1-52eaf75ace4c",
   "metadata": {},
   "outputs": [
    {
     "name": "stdin",
     "output_type": "stream",
     "text": [
      "Enter a positive integer:  8\n"
     ]
    },
    {
     "name": "stdout",
     "output_type": "stream",
     "text": [
      "sum= 36\n"
     ]
    }
   ],
   "source": [
    "#14) Write a python program to sum of the first n positive integers. \n",
    "\n",
    "n = int(input(\"Enter a positive integer: \"))\n",
    "\n",
    "summ = 0\n",
    "for i in range(1, n + 1):\n",
    "    summ += i\n",
    "\n",
    "print(\"sum=\",summ)\n"
   ]
  },
  {
   "cell_type": "code",
   "execution_count": 63,
   "id": "e3fa0d3e-a808-418f-b0a2-aa3117d81468",
   "metadata": {},
   "outputs": [
    {
     "name": "stdin",
     "output_type": "stream",
     "text": [
      "Enter a word:  heloo\n"
     ]
    },
    {
     "name": "stdout",
     "output_type": "stream",
     "text": [
      "The length is:  5\n"
     ]
    }
   ],
   "source": [
    "#15) Write a Python program to calculate the length of a string. \n",
    "\n",
    "s = input(\"Enter a word: \")\n",
    "\n",
    "length = len(s)\n",
    "\n",
    "print(\"The length is: \",length)\n"
   ]
  },
  {
   "cell_type": "code",
   "execution_count": 124,
   "id": "d0071df2-5a14-4e4b-97bc-a570e9f02bbf",
   "metadata": {},
   "outputs": [
    {
     "name": "stdin",
     "output_type": "stream",
     "text": [
      "Enter a string:  happy\n"
     ]
    },
    {
     "name": "stdout",
     "output_type": "stream",
     "text": [
      "Character frequencies:\n",
      "'h': 1\n",
      "'a': 1\n",
      "'p': 2\n",
      "'y': 1\n"
     ]
    }
   ],
   "source": [
    "#16) Write a Python program to count the number of characters (character frequency) in a string.\n",
    "\n",
    "string = input(\"Enter a string: \")\n",
    "\n",
    "count = {}\n",
    "\n",
    "for c in string:\n",
    "    if c in count:\n",
    "        count[c] += 1\n",
    "    else:\n",
    "        count[c] = 1\n",
    "\n",
    "print(\"Character frequencies:\")\n",
    "for c, countt in count.items():\n",
    "    print(f\"'{c}': {countt}\")\n"
   ]
  },
  {
   "cell_type": "code",
   "execution_count": 5,
   "id": "917c65ea-f8a4-4322-a2c2-839bcad7e25c",
   "metadata": {},
   "outputs": [
    {
     "name": "stdin",
     "output_type": "stream",
     "text": [
      "Enter Text:  python\n"
     ]
    },
    {
     "name": "stdout",
     "output_type": "stream",
     "text": [
      "n\n",
      "o\n"
     ]
    }
   ],
   "source": [
    "#17)What are negative indexes and why are they used?\n",
    "\"\"\"\n",
    "In Python, negative indexes allow you to access elements from the end of a sequence (like a list or string).\n",
    "\n",
    "-1 is the last element.\n",
    "-2 is the second-to-last element, and so on.\n",
    "\"\"\"\n",
    "\n",
    "txt = input(\"Enter Text: \")\n",
    "print(text[-1])\n",
    "print(text[-2])"
   ]
  },
  {
   "cell_type": "code",
   "execution_count": null,
   "id": "79320c0b-b091-4b34-a4aa-6d6739946359",
   "metadata": {},
   "outputs": [],
   "source": [
    "\"\"\"\n",
    "Why use negative indexes?\n",
    "Access elements from the end easily without calculating length.\n",
    "Shorter and cleaner code when working with the end of a sequence.\n",
    "\"\"\""
   ]
  },
  {
   "cell_type": "code",
   "execution_count": 134,
   "id": "607b3a06-b364-49eb-9390-41e7ab2853ed",
   "metadata": {},
   "outputs": [
    {
     "name": "stdin",
     "output_type": "stream",
     "text": [
      "Enter the string:  hlo hlo hlo\n",
      "Enter the substring:  h\n"
     ]
    },
    {
     "name": "stdout",
     "output_type": "stream",
     "text": [
      "3 times in the main string.\n"
     ]
    }
   ],
   "source": [
    "#18)Write a Python program to count occurrences of a substring in a string. \n",
    "\n",
    "strr = input(\"Enter the string: \")\n",
    "substrr = input(\"Enter the substring: \")\n",
    "\n",
    "count = strr.count(substrr)\n",
    "\n",
    "print(count, \"times in the main string.\")\n"
   ]
  },
  {
   "cell_type": "code",
   "execution_count": 35,
   "id": "3d992fd4-89a0-4c74-af54-578468b47666",
   "metadata": {},
   "outputs": [
    {
     "name": "stdin",
     "output_type": "stream",
     "text": [
      "Enter Sentance:  hii hi hello 10 100\n"
     ]
    },
    {
     "name": "stdout",
     "output_type": "stream",
     "text": [
      "{'hii': 1, 'hi': 1, 'hello': 1, '10': 1, '100': 1}\n"
     ]
    }
   ],
   "source": [
    "#19) Write a Python program to count the occurrences of each word in a given sentence.\n",
    "\n",
    "sent = input(\"Enter Sentance: \")\n",
    "words = sent.split()  \n",
    "count = {}  \n",
    "\n",
    "for word in words:\n",
    "    if word in count:\n",
    "        count[word] += 1\n",
    "    else:\n",
    "        count[word] = 1 \n",
    "\n",
    "print(count)\n"
   ]
  },
  {
   "cell_type": "code",
   "execution_count": 144,
   "id": "20ee2fa0-54d9-401b-b93a-4359af9bb9c2",
   "metadata": {},
   "outputs": [
    {
     "name": "stdin",
     "output_type": "stream",
     "text": [
      "Enter the first string:  hello\n",
      "Enter the second string:  python\n"
     ]
    },
    {
     "name": "stdout",
     "output_type": "stream",
     "text": [
      "pyllo hethon\n"
     ]
    }
   ],
   "source": [
    "#20) Write a Python program to get a single string from two given strings,\n",
    "#separated by a space and swap the first two characters of each string.\n",
    "\n",
    "str1 = input(\"Enter the first string: \")\n",
    "str2 = input(\"Enter the second string: \")\n",
    "\n",
    "s1 = str2[:2] + str1[2:]\n",
    "s2 = str1[:2] + str2[2:]\n",
    "\n",
    "result = s1 + \" \" + s2\n",
    "print(result)\n"
   ]
  },
  {
   "cell_type": "code",
   "execution_count": 11,
   "id": "b7a37f05-ccc0-4ad5-9e64-9ae8c309153f",
   "metadata": {},
   "outputs": [
    {
     "name": "stdin",
     "output_type": "stream",
     "text": [
      "Enter a word:  being\n"
     ]
    },
    {
     "name": "stdout",
     "output_type": "stream",
     "text": [
      "beingly\n"
     ]
    }
   ],
   "source": [
    "#21) Write a Python program to add 'in' at the end of a given string (length should be at least 3).\n",
    "#If the given string already ends with 'ing' then add 'ly' instead if the string length of the given string is less than 3, leave it unchanged. \n",
    "\n",
    "a1 = input(\"Enter a word: \")\n",
    "\n",
    "if len(a1) < 3:\n",
    "    result = a1\n",
    "elif a1.endswith(\"ing\"):\n",
    "    result = a1 + \"ly\"\n",
    "else:\n",
    "    result = a1 + \"ing\"\n",
    "\n",
    "print(result)"
   ]
  },
  {
   "cell_type": "code",
   "execution_count": 160,
   "id": "b144c15a-d2d6-4142-acef-044eb97bb314",
   "metadata": {},
   "outputs": [
    {
     "name": "stdin",
     "output_type": "stream",
     "text": [
      "Enter a string:  helo\n"
     ]
    },
    {
     "name": "stdout",
     "output_type": "stream",
     "text": [
      "Result: oleh\n"
     ]
    }
   ],
   "source": [
    "#22) Write a Python function to reverses a string if its length is a multiple of 4. \n",
    "\n",
    "s = input(\"Enter a string: \")\n",
    "\n",
    "if len(s) % 4 == 0:\n",
    "    s = s[::-1]\n",
    "\n",
    "print(\"Result:\", s)"
   ]
  },
  {
   "cell_type": "code",
   "execution_count": 168,
   "id": "e1334f88-2722-4a44-bd27-4994d0654335",
   "metadata": {},
   "outputs": [
    {
     "name": "stdin",
     "output_type": "stream",
     "text": [
      "Enter a string:  goodmorning\n"
     ]
    },
    {
     "name": "stdout",
     "output_type": "stream",
     "text": [
      "gong\n"
     ]
    }
   ],
   "source": [
    "#23) Write a Python program to get a string made of the first 2 and the last 2 chars from a given a string.\n",
    "#If the string length is less than 2, return instead of the empty string. \n",
    "\n",
    "s = input(\"Enter a string: \")\n",
    "\n",
    "if len(s) < 2:\n",
    "    result = \"\"\n",
    "else:\n",
    "    result = s[:2] + s[-2:]\n",
    "\n",
    "print(result)\n"
   ]
  },
  {
   "cell_type": "code",
   "execution_count": 27,
   "id": "5d2c4b30-d094-46d6-ba03-74a167d2e589",
   "metadata": {},
   "outputs": [
    {
     "name": "stdin",
     "output_type": "stream",
     "text": [
      "Enter the original string:  hello\n",
      "Enter the string to insert:  oreo\n"
     ]
    },
    {
     "name": "stdout",
     "output_type": "stream",
     "text": [
      "heoreollo\n"
     ]
    }
   ],
   "source": [
    "#24)Write a Python function to insert a string in the middle of a string.\n",
    "\n",
    "s = input(\"Enter the original string: \")\n",
    "e = input(\"Enter the string to insert: \")\n",
    "\n",
    "m = len(s) // 2\n",
    "r = s[:m] + e + s[m:]\n",
    "\n",
    "print(r)\n"
   ]
  },
  {
   "cell_type": "code",
   "execution_count": 29,
   "id": "97a906c1-405d-4dec-b3e3-67255ef0af64",
   "metadata": {},
   "outputs": [
    {
     "name": "stdout",
     "output_type": "stream",
     "text": [
      "[5, 4, 3, 2, 1]\n"
     ]
    }
   ],
   "source": [
    "#25)What is List? How will you reverse a list? \n",
    "\"\"\"\n",
    "A list is a collection of ordered, mutable elements (which means you can change them).\n",
    "Lists are defined by enclosing elements in square brackets [] and separating them by commas.\n",
    "\"\"\"\n",
    "listt = [1, 2, 3, 4, 5]\n",
    "listt.reverse()\n",
    "print(listt)"
   ]
  },
  {
   "cell_type": "code",
   "execution_count": 31,
   "id": "5c373c96-878e-4e99-80cd-8ab8e2d6d284",
   "metadata": {},
   "outputs": [
    {
     "data": {
      "text/plain": [
       "[1, 2, 3, 4]"
      ]
     },
     "execution_count": 31,
     "metadata": {},
     "output_type": "execute_result"
    }
   ],
   "source": [
    "#26)How will you remove last object from a list?\n",
    "lst = [1, 2, 3, 4, 5]\n",
    "lst.pop()\n",
    "lst"
   ]
  },
  {
   "cell_type": "code",
   "execution_count": 33,
   "id": "0eae7900-d022-4cfd-9a4e-33954af4e19f",
   "metadata": {},
   "outputs": [
    {
     "name": "stdout",
     "output_type": "stream",
     "text": [
      "25\n"
     ]
    }
   ],
   "source": [
    "#27)Suppose list1 is [2, 33, 222, 14, and 25], what is list1 [-1]? \n",
    "\n",
    "#When you use list1[-1], it refers to the last element of the list.\n",
    "\n",
    "list1 = [2, 33, 222, 14, 25]\n",
    "print(list1[-1])"
   ]
  },
  {
   "cell_type": "code",
   "execution_count": 35,
   "id": "683dfa0a-9d53-4c52-a75e-6003e5e53a6e",
   "metadata": {},
   "outputs": [
    {
     "name": "stdout",
     "output_type": "stream",
     "text": [
      "[1, 2, 3, [5, 6]]\n"
     ]
    }
   ],
   "source": [
    "#28)Differentiate between append () and extend () methods? \n",
    "\n",
    "lst = [1, 2, 3]\n",
    "\n",
    "lst.append([5, 6])\n",
    "print(lst)"
   ]
  },
  {
   "cell_type": "code",
   "execution_count": 37,
   "id": "910fee29-d345-4b48-b2d6-93406fad844a",
   "metadata": {},
   "outputs": [
    {
     "name": "stdout",
     "output_type": "stream",
     "text": [
      "[1, 2, 3, 4, 5]\n"
     ]
    }
   ],
   "source": [
    "lst = [1, 2, 3]\n",
    "lst.extend([4, 5])\n",
    "print(lst)"
   ]
  },
  {
   "cell_type": "code",
   "execution_count": null,
   "id": "e2acc439-1df7-4791-b4ef-d50e0af4963d",
   "metadata": {},
   "outputs": [],
   "source": [
    "\"\"\"\n",
    "append():\n",
    "Adds one element to the end of the list.\n",
    "Even if you pass a list, it adds that list as a single item at the end.\n",
    "\n",
    "extend():\n",
    "Adds multiple elements from another list or iterable (like a list or tuple) to the end of the list.\n",
    "The elements are added individually.\n",
    "\n",
    "Key Difference:\n",
    "append(): Adds one item to the end (even if it's a list, it stays as one item).\n",
    "extend(): Adds each element of another list to the end individually.\n",
    "\"\"\""
   ]
  },
  {
   "cell_type": "code",
   "execution_count": 41,
   "id": "67a91e16-63c8-4165-a66a-61c6a3354682",
   "metadata": {},
   "outputs": [
    {
     "name": "stdout",
     "output_type": "stream",
     "text": [
      "Largest: 50\n",
      "Smallest: 10\n",
      "Sum: 150\n"
     ]
    }
   ],
   "source": [
    "#29) Write a Python function to get the largest number, smallest num and sum of all from a list.\n",
    "\n",
    "lst = [10, 20, 30, 40, 50]\n",
    "\n",
    "large = max(lst)\n",
    "small = min(lst)\n",
    "total = sum(lst)\n",
    "\n",
    "print(\"Largest:\", large)\n",
    "print(\"Smallest:\", small)\n",
    "print(\"Sum:\", total)\n"
   ]
  },
  {
   "cell_type": "code",
   "execution_count": 43,
   "id": "fc7360bb-1e7b-4a0d-9a09-7042b52e7da0",
   "metadata": {},
   "outputs": [
    {
     "name": "stdout",
     "output_type": "stream",
     "text": [
      "The lists are equal.\n"
     ]
    }
   ],
   "source": [
    "#30)How will you compare two lists? \n",
    "\n",
    "lst1 = [1, 2, 3]\n",
    "lst2 = [1, 2, 3]\n",
    "\n",
    "if lst1 == lst2:\n",
    "    print(\"The lists are equal.\")\n",
    "else:\n",
    "    print(\"The lists are not equal.\")"
   ]
  },
  {
   "cell_type": "code",
   "execution_count": 29,
   "id": "e110c69f-cabc-47ff-91f9-bedf57b33ecb",
   "metadata": {},
   "outputs": [
    {
     "name": "stdout",
     "output_type": "stream",
     "text": [
      "result: 3\n"
     ]
    }
   ],
   "source": [
    "#31) Write a Python program to count the number of strings where the string length is 2\n",
    "#or more and the first and last character are same from a given list of strings.\n",
    "\n",
    "strings = ['aba', 'abc', 'xyz', 'a', 'xyx', 'def', 'aa']\n",
    "count = 0\n",
    "for s in strings:\n",
    "    if len(s) >= 2 and s[0] == s[-1]:\n",
    "        count += 1\n",
    "print(\"result:\",count)"
   ]
  },
  {
   "cell_type": "code",
   "execution_count": 18,
   "id": "535b997c-d57e-4072-b406-83ac978294a2",
   "metadata": {},
   "outputs": [
    {
     "name": "stdout",
     "output_type": "stream",
     "text": [
      "with duplicate:  [1, 1, 2, 2, 3, 4]\n",
      "without duplicate:  {1, 2, 3, 4}\n"
     ]
    }
   ],
   "source": [
    "#32)Write a Python program to remove duplicates from a list.\n",
    "\n",
    "lst1 = [1,1,2,2,3,4]\n",
    "sett = set(lst1)\n",
    "lst2 = sett\n",
    "print(\"with duplicate: \",lst1)\n",
    "print(\"without duplicate: \",lst2)"
   ]
  },
  {
   "cell_type": "code",
   "execution_count": 22,
   "id": "64800692-e756-435a-905b-104ef7b92944",
   "metadata": {},
   "outputs": [
    {
     "name": "stdout",
     "output_type": "stream",
     "text": [
      "list have data. list= [12, 12]\n"
     ]
    }
   ],
   "source": [
    "#33)Write a Python program to check a list is empty or not.\n",
    "\n",
    "lst1 = [12,12]\n",
    "if len(lst1)==0:\n",
    "    print(\"List is empty.\")\n",
    "else:\n",
    "    print(\"list have data. list=\",lst1)"
   ]
  },
  {
   "cell_type": "code",
   "execution_count": 48,
   "id": "3c847596-4ebb-48f6-9e8a-3a503c2b4be3",
   "metadata": {},
   "outputs": [
    {
     "name": "stdout",
     "output_type": "stream",
     "text": [
      "True\n"
     ]
    }
   ],
   "source": [
    "#34) Write a Python function that takes two lists and returns true if they have at least one common member.\n",
    "\n",
    "lst1=[1,2,3]\n",
    "lst2=[5,5,1]\n",
    "\n",
    "result = 0\n",
    "for i in lst1:\n",
    "    if i in lst2:\n",
    "        result = True\n",
    "        break\n",
    "    else:\n",
    "        result = False\n",
    "\n",
    "print(result)"
   ]
  },
  {
   "cell_type": "code",
   "execution_count": 56,
   "id": "4223c6e1-6845-450b-ab98-8a9f62aa5d52",
   "metadata": {},
   "outputs": [
    {
     "name": "stdout",
     "output_type": "stream",
     "text": [
      "[1, 4, 9, 16, 25, 676, 729, 784, 841, 900]\n"
     ]
    }
   ],
   "source": [
    "#35) Write a Python program to generate and print a list of first and last 5\n",
    "#elements where the values are square of numbers between 1 and 30.\n",
    "\n",
    "s = [i**2 for i in range(1,31)]\n",
    "print(s[:5]+s[-5:])"
   ]
  },
  {
   "cell_type": "code",
   "execution_count": 174,
   "id": "b0a683d9-9ce5-44e1-a3d7-a9c70b14361e",
   "metadata": {},
   "outputs": [
    {
     "name": "stdout",
     "output_type": "stream",
     "text": [
      "original List:  [1, 2, 3, 4, 5, 2, 5, 3, 'a', 'a', 'c']\n",
      "Unique List:  [1, 2, 3, 4, 5, 'a', 'c']\n"
     ]
    }
   ],
   "source": [
    "#36) Write a Python function that takes a list and returns a new list with unique elements of the first list.\n",
    "\n",
    "lst1 = [1,2,3,4,5,2,5,3,\"a\",\"a\",\"c\"]\n",
    "ulst = set(lst1)\n",
    "ulst = list(ulst)\n",
    "print(\"original List: \",lst1)\n",
    "print(\"Unique List: \",ulst)"
   ]
  },
  {
   "cell_type": "code",
   "execution_count": 70,
   "id": "a51dcabc-8323-4a22-a3a5-8eee00e48954",
   "metadata": {},
   "outputs": [
    {
     "data": {
      "text/plain": [
       "'HELLO'"
      ]
     },
     "execution_count": 70,
     "metadata": {},
     "output_type": "execute_result"
    }
   ],
   "source": [
    "#37)Write a Python program to convert a list of characters into a string.\n",
    "\n",
    "lst1=[\"H\",\"E\",\"L\",\"L\",\"O\"]\n",
    "x = \"\".join(lst1)\n",
    "x"
   ]
  },
  {
   "cell_type": "code",
   "execution_count": 88,
   "id": "51727bc2-bd73-4fc5-b515-9002ecf17500",
   "metadata": {},
   "outputs": [
    {
     "name": "stdout",
     "output_type": "stream",
     "text": [
      "random item b\n"
     ]
    }
   ],
   "source": [
    "#38)Write a Python program to select an item randomly from a list.\n",
    "\n",
    "lst1=[1,2,3,4,5,\"a\",\"b\"]\n",
    "sett = set(lst1)\n",
    "for i in sett:\n",
    "    print(\"random item\",i)\n",
    "    break"
   ]
  },
  {
   "cell_type": "code",
   "execution_count": 102,
   "id": "1b58b09a-9480-4bad-a659-a0fffe7b3fe7",
   "metadata": {},
   "outputs": [
    {
     "name": "stdout",
     "output_type": "stream",
     "text": [
      "2\n"
     ]
    }
   ],
   "source": [
    "#39)Write a Python program to find the second smallest number in a list.\n",
    "\n",
    "lst1=[1,2,3,20,21,22]\n",
    "lst1.remove(min(lst1))\n",
    "print(min(lst1))"
   ]
  },
  {
   "cell_type": "code",
   "execution_count": 112,
   "id": "13eb4bb4-a71d-4e90-a44f-20d2cae24cb8",
   "metadata": {},
   "outputs": [
    {
     "name": "stdout",
     "output_type": "stream",
     "text": [
      "Unique List= [1, 2, 4, 5, 'a', 'b']\n"
     ]
    }
   ],
   "source": [
    "#40)Write a Python program to get unique values from a list.\n",
    "\n",
    "def unique(lst):\n",
    "    ulst = []\n",
    "    for i in lst:\n",
    "        if i not in ulst:\n",
    "            ulst.append(i)\n",
    "    return ulst\n",
    "\n",
    "listt=[1,2,1,2,4,5,\"a\",\"b\",\"a\"]\n",
    "xlst = unique(listt)\n",
    "print(\"Unique List=\", xlst)\n"
   ]
  },
  {
   "cell_type": "code",
   "execution_count": 3,
   "id": "264d3536-d95f-4b09-bb6b-480fe1ff69b4",
   "metadata": {},
   "outputs": [
    {
     "name": "stdout",
     "output_type": "stream",
     "text": [
      "Sublist Found\n"
     ]
    }
   ],
   "source": [
    "#41)Write a Python program to check whether a list contains a sub list.\n",
    "\n",
    "main = [1, 2, 3, 4, 5, 6]\n",
    "sublist = [3, 4, 5]\n",
    "\n",
    "for i in range(len(main) - len(sublist) + 1):\n",
    "    if main[i:i + len(sublist)] == sublist:\n",
    "        print(\"Sublist Found\")\n",
    "        break\n",
    "else:\n",
    "    print(\"Sublist not found!\")"
   ]
  },
  {
   "cell_type": "code",
   "execution_count": 133,
   "id": "8d74c3cd-fc27-4485-b592-0a1a4504321f",
   "metadata": {},
   "outputs": [
    {
     "name": "stdout",
     "output_type": "stream",
     "text": [
      "main list= [10, 20, 30, 40, 50]\n",
      "after split:\n",
      "10 / 20 / 30 / 40 / 50 / "
     ]
    }
   ],
   "source": [
    "#42)Write a Python program to split a list into different variables.\n",
    "\n",
    "lst = [10, 20, 30,40,50]\n",
    "print(\"main list=\",lst)\n",
    "print(\"after split:\")\n",
    "for i in lst:\n",
    "    print( i , end=\" / \")"
   ]
  },
  {
   "cell_type": "code",
   "execution_count": null,
   "id": "27dc014b-8469-47a6-9192-78d9b6cdafb4",
   "metadata": {},
   "outputs": [],
   "source": [
    "#43)What is tuple? Difference between list and tuple.\n",
    "\"\"\"\n",
    "A tuple is an ordered collection of items, similar to a list, but it is immutable,\n",
    "meaning its elements cannot be changed after creation. Tuples are defined using parentheses ().\n",
    "\"\"\"\n",
    "tup = (1, 2, 3, \"hello\")\n",
    "print(\"tuple= \",tup)\n",
    "\"\"\"\n",
    "list:\n",
    "Defined with square brackets []\t\n",
    "Mutable\n",
    "methods: append(), remove()\t\n",
    "\n",
    "tuple:\n",
    "Defined with parentheses ()\n",
    "Immutable\n",
    "less methods: count(), index()\n",
    "\"\"\""
   ]
  },
  {
   "cell_type": "code",
   "execution_count": 172,
   "id": "01abb0a0-b930-4edf-8238-39ff90962f29",
   "metadata": {},
   "outputs": [
    {
     "name": "stdout",
     "output_type": "stream",
     "text": [
      "(1, 2, 'Hello', 10.1, True, [1, 2, 3], ('hello', 'python'))\n"
     ]
    }
   ],
   "source": [
    "#44)Write a Python program to create a tuple with different data types.\n",
    "\n",
    "tup = (1,2,\"Hello\",10.10, True, [1, 2, 3], (\"hello\", \"python\"))\n",
    "print(tup)\n"
   ]
  },
  {
   "cell_type": "code",
   "execution_count": 23,
   "id": "e04880f2-3b67-40a5-930f-6cb457c8f900",
   "metadata": {},
   "outputs": [
    {
     "name": "stdout",
     "output_type": "stream",
     "text": [
      "Orignal List pof tuple:  [('abc', 1), ('efg', 2), ('xyz', 3)]\n",
      "Individual list:\n",
      "['abc', 'efg', 'xyz']\n",
      "[1, 2, 3]\n"
     ]
    }
   ],
   "source": [
    "#45)Write a Python program to unzip a list of tuples into individual lists. \n",
    "lst = [('abc',1),('efg',2),('xyz',3)]\n",
    "\n",
    "print(\"Orignal List pof tuple: \",str(lst))\n",
    "zx = list(zip(*lst))\n",
    "print(\"Individual list:\")\n",
    "for i in zx:\n",
    "   print(list(i)) "
   ]
  },
  {
   "cell_type": "code",
   "execution_count": 180,
   "id": "ffb000ca-9ad4-445f-a089-1542eb5198f2",
   "metadata": {},
   "outputs": [
    {
     "name": "stdout",
     "output_type": "stream",
     "text": [
      "{'a': 1, 'b': 2, 'c': 3}\n"
     ]
    }
   ],
   "source": [
    "#46)Write a Python program to convert a list of tuples into a dictionary.\n",
    "\n",
    "lst_of_tuple = [('a', 1), ('b', 2), ('c', 3)]\n",
    "\n",
    "dictt = dict(lst_of_tuple)\n",
    "print(dictt)"
   ]
  },
  {
   "cell_type": "code",
   "execution_count": 182,
   "id": "718b2f82-bef2-44e2-96d0-3c3dc856c62d",
   "metadata": {},
   "outputs": [
    {
     "name": "stdout",
     "output_type": "stream",
     "text": [
      "{'name': 'python', 'age': 30, 'city': 'abad'}\n"
     ]
    }
   ],
   "source": [
    "#47)How will you create a dictionary using tuples in python?\n",
    "\"\"\"\n",
    "Each tuple in the list is treated as a key-value pair.\n",
    "The first element of each tuple becomes the dictionary key, and the second element becomes the value.\n",
    "\"\"\"\n",
    "tuple_lst = [(\"name\", \"python\"), (\"age\", 30), (\"city\", \"abad\")]\n",
    "\n",
    "dictt = dict(tuple_lst)\n",
    "\n",
    "print(dictt)\n"
   ]
  },
  {
   "cell_type": "code",
   "execution_count": 75,
   "id": "ab3e6fc3-f9c1-47a5-9438-0635ce18b74b",
   "metadata": {},
   "outputs": [
    {
     "name": "stdout",
     "output_type": "stream",
     "text": [
      "ascending:  ['a', 'b', 'c', 'd', 'e']\n",
      "descending: ['e', 'd', 'c', 'b', 'a']\n",
      "ascending:  [10, 11, 30, 40, 100]\n",
      "descending: [100, 40, 30, 11, 10]\n"
     ]
    }
   ],
   "source": [
    "#48)Write a Python script to sort (ascending and descending) adictionary by value.\n",
    "\n",
    "dict1={'a':'a','d':'d','e':'e','b':'b','c':'c'}\n",
    "dict2={'a':11,'d':100,'e':30,'b':40,'c':10}\n",
    "x1 = list(dict1.values())\n",
    "x1.sort()\n",
    "print(\"ascending: \",x1)\n",
    "x1.sort(reverse=True)\n",
    "print(\"descending:\",x1)\n",
    "\n",
    "x2 = list(dict2.values())\n",
    "x2.sort()\n",
    "print(\"ascending: \",x2)\n",
    "x2.sort(reverse=True)\n",
    "print(\"descending:\",x2)"
   ]
  },
  {
   "cell_type": "code",
   "execution_count": 192,
   "id": "3f17b7bc-4c16-485e-a680-633d47ebd67d",
   "metadata": {},
   "outputs": [
    {
     "name": "stdout",
     "output_type": "stream",
     "text": [
      "new dict =  {'a': 1, 'b': 2, 'c': 3, 'd': 4, 'e': 5, 'f': 6}\n"
     ]
    }
   ],
   "source": [
    "#49)Write a Python script to concatenate following dictionaries to createa new one.\n",
    "\n",
    "dictt1 = {'a': 1, 'b': 2}\n",
    "dictt2 = {'c': 3, 'd': 4}\n",
    "dictt3 = {'e': 5, 'f': 6}\n",
    "\n",
    "ndict = dictt1.copy()\n",
    "\n",
    "ndict.update(dictt2)\n",
    "ndict.update(dictt3)\n",
    "\n",
    "print(\"new dict = \",ndict)\n"
   ]
  },
  {
   "cell_type": "code",
   "execution_count": 196,
   "id": "cc6adcf6-cece-40d0-9f6b-f4109177bd13",
   "metadata": {},
   "outputs": [
    {
     "name": "stdin",
     "output_type": "stream",
     "text": [
      "Enter key:  cherry\n"
     ]
    },
    {
     "name": "stdout",
     "output_type": "stream",
     "text": [
      "cherry exists in the dictionary.\n"
     ]
    }
   ],
   "source": [
    "#50)Write a Python script to check if a given key already exists in a dictionary.\n",
    "\n",
    "dictt = {'apple': 10, 'banana': 5, 'cherry': 7}\n",
    "\n",
    "key = input(\"Enter key: \")\n",
    "\n",
    "if key in dictt:\n",
    "    print(key,\"exists in the dictionary.\")\n",
    "else:\n",
    "    print(key,\"does not exist in the dictionary.\")\n"
   ]
  },
  {
   "cell_type": "code",
   "execution_count": 11,
   "id": "7ce09d56-be0f-4c92-a6e6-4b5e33817165",
   "metadata": {},
   "outputs": [
    {
     "name": "stdout",
     "output_type": "stream",
     "text": [
      "Keys:\n",
      "name\n",
      "age\n",
      "city\n",
      "\n",
      " Values:\n",
      "python\n",
      "30\n",
      "abad\n",
      "\n",
      " Items:\n",
      "('name', 'python')\n",
      "('age', 30)\n",
      "('city', 'abad')\n"
     ]
    }
   ],
   "source": [
    "#51)How Do You Traverse Through a Dictionary Object in Python?\n",
    "\n",
    "dictt = {\"name\": \"python\", \"age\": 30, \"city\": \"abad\"}\n",
    "\n",
    "print(\"Keys:\")\n",
    "for key in dictt.keys():\n",
    "    print(key)\n",
    "\n",
    "print(\"\\n Values:\")\n",
    "for value in dictt.values():\n",
    "    print(value)\n",
    "\n",
    "print(\"\\n Items:\")\n",
    "for item in dictt.items():\n",
    "    print(item)"
   ]
  },
  {
   "cell_type": "code",
   "execution_count": 17,
   "id": "40dbd347-f497-4b6f-bbd5-1ede37422f4f",
   "metadata": {},
   "outputs": [
    {
     "name": "stdin",
     "output_type": "stream",
     "text": [
      "input value=  a\n"
     ]
    },
    {
     "name": "stdout",
     "output_type": "stream",
     "text": [
      "Key is present.\n"
     ]
    }
   ],
   "source": [
    "#52)How Do You Check the Presence of a Key in A Dictionary?\n",
    "\n",
    "dictt = {'a': 1, 'b': 2, 'c': 3}\n",
    "\n",
    "a1 = input(\"input value= \")\n",
    "\n",
    "if a1 in dictt:\n",
    "    print(\"Key is present.\")\n",
    "else:\n",
    "    print(\"Key is not present.\")"
   ]
  },
  {
   "cell_type": "code",
   "execution_count": 55,
   "id": "72e1618a-5d96-4ae1-9ddf-95227101c2f1",
   "metadata": {},
   "outputs": [
    {
     "name": "stdout",
     "output_type": "stream",
     "text": [
      "{1: '*', 2: '*', 3: '*', 4: '*', 5: '*', 6: '*', 7: '*', 8: '*', 9: '*', 10: '*', 11: '*', 12: '*', 13: '*', 14: '*', 15: '*'}\n"
     ]
    }
   ],
   "source": [
    "#53)Write a Python script to print a dictionary where the keys are numbers between 1 and 15.\n",
    "dictt = {}\n",
    "\n",
    "for key in range(1, 16):\n",
    "    dictt[key] = '*'\n",
    "\n",
    "print(dictt)\n"
   ]
  },
  {
   "cell_type": "code",
   "execution_count": 69,
   "id": "b6cc7140-bc01-4d1a-907d-9917da9e305f",
   "metadata": {},
   "outputs": [
    {
     "name": "stdout",
     "output_type": "stream",
     "text": [
      "All keys exist in the dictionary.\n"
     ]
    }
   ],
   "source": [
    "#54)Write a Python program to check multiple keys exists in a dictionary.\n",
    "\n",
    "dictt1 = {'a': 1, 'b': 2, 'c': 3, 'd': 4}\n",
    "\n",
    "keys = ['a','b','c','d']\n",
    "\n",
    "if all(k in dictt1 for k in keys):\n",
    "    print(\"All keys exist in the dictionary.\")\n",
    "else:\n",
    "    print(\"Some keys are missing.\")\n"
   ]
  },
  {
   "cell_type": "code",
   "execution_count": 29,
   "id": "2754435f-7924-4312-9a8e-64c80e5c1759",
   "metadata": {},
   "outputs": [
    {
     "name": "stdout",
     "output_type": "stream",
     "text": [
      "a=  {'name': 'python', 'age': 30, 'state': 'gujrat', 'city': 'abad'}\n"
     ]
    }
   ],
   "source": [
    "#55)Write a Python script to merge two Python dictionaries.\n",
    "\n",
    "a = {\"name\": \"python\", \"age\": 30}\n",
    "b = {\"state\": \"gujrat\",  \"city\": \"abad\"}\n",
    "\n",
    "a.update(b)\n",
    "print(\"a= \",a)"
   ]
  },
  {
   "cell_type": "code",
   "execution_count": 31,
   "id": "2ca1eba9-7cc5-44e4-9eaa-ba8a3b547b21",
   "metadata": {},
   "outputs": [
    {
     "name": "stdout",
     "output_type": "stream",
     "text": [
      "{'a': 400, 'b': 400, 'd': 400, 'c': 300}\n"
     ]
    }
   ],
   "source": [
    "#56)Write a Python program to map two lists into a dictionary Sample output:\n",
    "# Counter ({'a': 400, 'b': 400,’d’: 400, 'c': 300}). \n",
    "\n",
    "keys = ['a', 'b', 'd', 'c']\n",
    "values = [400, 400, 400, 300]\n",
    "dictt = {}\n",
    "\n",
    "for i in range(len(keys)):\n",
    "    dictt[keys[i]] = values[i]\n",
    "\n",
    "print(dictt)\n"
   ]
  },
  {
   "cell_type": "code",
   "execution_count": 45,
   "id": "4a2cf163-52b1-4673-9024-c9af355e24f4",
   "metadata": {},
   "outputs": [
    {
     "name": "stdout",
     "output_type": "stream",
     "text": [
      "3 highest values:  [400, 100, 50]\n"
     ]
    }
   ],
   "source": [
    "#57)Write a Python program to find the highest 3 values in a dictionary.\n",
    "\n",
    "dictt = {'a':11,'b':20,'c':10,'d':100,'e':400,'f':50}\n",
    "\n",
    "ab = list(dictt.values())\n",
    "ab.sort(reverse=True)\n",
    "print(\"3 highest values: \",ab[:3])"
   ]
  },
  {
   "cell_type": "code",
   "execution_count": 13,
   "id": "d734f798-2a47-447e-aef9-5aba5f6661e4",
   "metadata": {},
   "outputs": [
    {
     "name": "stdout",
     "output_type": "stream",
     "text": [
      "{'item1': 1150, 'item2': 300}\n"
     ]
    }
   ],
   "source": [
    "#58)Write a Python program to combine values in python list of dictionaries.\n",
    "#Sample data: [{'item': 'item1', 'amount': 400}, {'item': 'item2', 'amount':300}, o {'item': 'item1', 'amount': 750}]\n",
    "#Expected Output:\n",
    "#Counter ({'item1': 1150, 'item2': 300})\n",
    "\n",
    "data = [\n",
    "    {'item': 'item1', 'amount': 400},\n",
    "    {'item': 'item2', 'amount': 300},\n",
    "    {'item': 'item1', 'amount': 750}\n",
    "]\n",
    "\n",
    "dictt = {}\n",
    "\n",
    "for i in data:\n",
    "    item = i[\"item\"]\n",
    "    amount = i[\"amount\"]\n",
    "    \n",
    "    if item in dictt:\n",
    "        dictt[item] += amount\n",
    "    else:\n",
    "        dictt[item] = amount\n",
    "\n",
    "print(dictt)\n"
   ]
  },
  {
   "cell_type": "code",
   "execution_count": 185,
   "id": "350d0cbd-eebe-40a6-b629-814eebcc18e9",
   "metadata": {},
   "outputs": [
    {
     "name": "stdin",
     "output_type": "stream",
     "text": [
      "Enter a string:  hello\n"
     ]
    },
    {
     "name": "stdout",
     "output_type": "stream",
     "text": [
      "{'h': 1, 'e': 1, 'l': 2, 'o': 1}\n"
     ]
    }
   ],
   "source": [
    "#59)Write a Python program to create a dictionary from a string. Note: Track the count of the letters from the string.\n",
    "\n",
    "def countt(s1):\n",
    "    cou = {}\n",
    "    for i in s1:\n",
    "        if i in cou:\n",
    "            cou[i] += 1 \n",
    "        else:\n",
    "            cou[i] = 1  \n",
    "    \n",
    "    return cou\n",
    "\n",
    "z1 = input(\"Enter a string: \")\n",
    "print(countt(z1))\n"
   ]
  },
  {
   "cell_type": "code",
   "execution_count": 25,
   "id": "2b86db86-0543-4ef9-8087-02eabbabe6a3",
   "metadata": {},
   "outputs": [
    {
     "name": "stdout",
     "output_type": "stream",
     "text": [
      "{'w': 1, '3': 1, 'r': 2, 'e': 2, 's': 1, 'o': 1, 'u': 1, 'c': 1}\n"
     ]
    }
   ],
   "source": [
    "#60)Sample string:'w3resource' Expected output:\n",
    "# {'3': 1,’s’: 1, 'r': 2, 'u': 1, 'w': 1, 'c': 1, 'e': 2, 'o': 1}\n",
    "\n",
    "def countt(s1):\n",
    "    cou = {}\n",
    "    for i in s1:\n",
    "        if i in cou:\n",
    "            cou[i] += 1 \n",
    "        else:\n",
    "            cou[i] = 1  \n",
    "    \n",
    "    return cou\n",
    "\n",
    "z1 =('w3resource')\n",
    "print(countt(z1))"
   ]
  },
  {
   "cell_type": "code",
   "execution_count": 3,
   "id": "44a42d45-87e5-4379-b5e6-6feca9503935",
   "metadata": {},
   "outputs": [
    {
     "name": "stdin",
     "output_type": "stream",
     "text": [
      "Enter number : 6\n"
     ]
    },
    {
     "name": "stdout",
     "output_type": "stream",
     "text": [
      "720\n"
     ]
    }
   ],
   "source": [
    "#61)Write a Python function to calculate the factorial of a number (a nonnegative integer).\n",
    "\n",
    "def f1(a):\n",
    "    result = 1\n",
    "    for i in range(1, a + 1):\n",
    "        result *= i\n",
    "    return result\n",
    "\n",
    "print(f1(int(input(\"Enter number :\"))))"
   ]
  },
  {
   "cell_type": "code",
   "execution_count": 7,
   "id": "290834e8-1b5d-4912-9275-33fb6bfb8689",
   "metadata": {},
   "outputs": [
    {
     "name": "stdin",
     "output_type": "stream",
     "text": [
      "Enter starting number:  1\n",
      "Enter ending number:  100\n",
      "Enter number to check:  50\n"
     ]
    },
    {
     "name": "stdout",
     "output_type": "stream",
     "text": [
      "True\n"
     ]
    }
   ],
   "source": [
    "#62)Write a Python function to check whether a number is in a given range.\n",
    "\n",
    "def inrange(number, start, end):\n",
    "    return start <= number <= end\n",
    "\n",
    "start = int(input(\"Enter starting number: \"))\n",
    "end = int(input(\"Enter ending number: \"))\n",
    "number = int(input(\"Enter number to check: \"))\n",
    "\n",
    "print(inrange(number, start, end))\n"
   ]
  },
  {
   "cell_type": "code",
   "execution_count": 9,
   "id": "6d12aa5a-8900-4775-aeaa-b748c0f8a085",
   "metadata": {},
   "outputs": [
    {
     "name": "stdin",
     "output_type": "stream",
     "text": [
      "Enter a number:  6\n"
     ]
    },
    {
     "name": "stdout",
     "output_type": "stream",
     "text": [
      "6 is a perfect number.\n"
     ]
    }
   ],
   "source": [
    "#63)Write a Python function to check whether a number is perfect or not.\n",
    "\n",
    "def perfect(num):\n",
    "    div = 0\n",
    "    for i in range(1, num):\n",
    "        if num % i == 0:  \n",
    "            div += i\n",
    "    return div == num  \n",
    "num1 = int(input(\"Enter a number: \"))\n",
    "if perfect(num1):\n",
    "    print(f\"{num1} is a perfect number.\")\n",
    "else:\n",
    "    print(f\"{num1} is not a perfect number.\")\n"
   ]
  },
  {
   "cell_type": "code",
   "execution_count": 21,
   "id": "a7ca1979-7d68-46a9-9587-072c52ff4ef6",
   "metadata": {},
   "outputs": [
    {
     "name": "stdin",
     "output_type": "stream",
     "text": [
      "Enter a string:  madam\n"
     ]
    },
    {
     "name": "stdout",
     "output_type": "stream",
     "text": [
      "'madam' is a palindrome.\n"
     ]
    }
   ],
   "source": [
    "#64)Write a Python function that checks whether a passed string is palindrome or not.\n",
    "\n",
    "def palindrome(s):\n",
    "    return s == s[::-1]\n",
    "x1 = input(\"Enter a string: \")\n",
    "if palindrome(x1):\n",
    "    print(f\"'{x1}' is a palindrome.\")\n",
    "else:\n",
    "    print(f\"'{x1}' is not a palindrome.\")\n"
   ]
  },
  {
   "cell_type": "code",
   "execution_count": null,
   "id": "894a648c-fdd4-40ea-b515-a286688f60fc",
   "metadata": {},
   "outputs": [],
   "source": [
    "#65)How Many Basic Types of Functions Are Available in Python?\n",
    "\"\"\"\n",
    "Built-in Functions: Already available in Python.\n",
    "User-defined Functions: Functions you create.        \n",
    "Lambda Functions: Small, anonymous functions.\n",
    "Recursive Functions: Functions that call themselves.\n",
    "\"\"\""
   ]
  },
  {
   "cell_type": "code",
   "execution_count": 75,
   "id": "9b268dde-131c-4d3d-ba4c-3af87c8092fa",
   "metadata": {},
   "outputs": [
    {
     "name": "stdout",
     "output_type": "stream",
     "text": [
      "random item from list=  4\n"
     ]
    }
   ],
   "source": [
    "#66)How can you pick a random item from a list or tuple?\n",
    "\n",
    "lst = [\"x\",\"y\",\"z\",4,5]\n",
    "\n",
    "lst1= set(lst)\n",
    "for i in lst1:\n",
    "    print(\"random item from list= \",i)\n",
    "    break"
   ]
  },
  {
   "cell_type": "code",
   "execution_count": 79,
   "id": "af1176c4-2e43-428d-93ee-9220d0bd0ded",
   "metadata": {},
   "outputs": [
    {
     "name": "stdout",
     "output_type": "stream",
     "text": [
      "random item from tuple=  1\n"
     ]
    }
   ],
   "source": [
    "tup = (\"a\",\"b\",\"c\",\"d\",1,2,3,4)\n",
    "\n",
    "tup1=set(tup)\n",
    "for x in tup1:\n",
    "    print(\"random item from tuple= \",x)\n",
    "    break"
   ]
  },
  {
   "cell_type": "code",
   "execution_count": 195,
   "id": "2a745485-5f1f-45d6-bf4c-9fb0b8ca4d65",
   "metadata": {},
   "outputs": [
    {
     "name": "stdout",
     "output_type": "stream",
     "text": [
      "-81\n"
     ]
    }
   ],
   "source": [
    "#67)How can you pick a random item from a range?\n",
    "\n",
    "import random\n",
    "\n",
    "r1 = random.randrange(-100,100)\n",
    "print(r1)\n"
   ]
  },
  {
   "cell_type": "code",
   "execution_count": 197,
   "id": "60bffda3-d00f-4373-b6ff-b50d4e2d24e1",
   "metadata": {},
   "outputs": [
    {
     "name": "stdout",
     "output_type": "stream",
     "text": [
      "0.4251306920430813\n"
     ]
    }
   ],
   "source": [
    "#68)How can you get a random number in python?\n",
    "\n",
    "import random\n",
    "\n",
    "r2 = random.random()\n",
    "print(r2)"
   ]
  },
  {
   "cell_type": "code",
   "execution_count": 217,
   "id": "8c0c2178-4330-4685-a4c1-92eae48440c4",
   "metadata": {},
   "outputs": [
    {
     "name": "stdin",
     "output_type": "stream",
     "text": [
      "Starting num: 10\n",
      "ending num: 50\n"
     ]
    },
    {
     "name": "stdout",
     "output_type": "stream",
     "text": [
      "43\n"
     ]
    }
   ],
   "source": [
    "#69)How will you set the starting value in generating random numbers? \n",
    "\n",
    "import random\n",
    "a=int(input(\"Starting num:\"))\n",
    "b=int(input(\"ending num:\"))\n",
    "r1 = random.randrange(a,b)\n",
    "print(r1)"
   ]
  },
  {
   "cell_type": "code",
   "execution_count": 1,
   "id": "070c1854-615f-4462-a1d5-0c90aa878212",
   "metadata": {},
   "outputs": [
    {
     "name": "stdout",
     "output_type": "stream",
     "text": [
      "main list: [1, 2, 3, 4, 5, 6, 7, 8, 9]\n",
      "after randomize: [5, 7, 2, 3, 4, 9, 6, 1, 8]\n"
     ]
    }
   ],
   "source": [
    "#70) How will you randomize the items of a list in place?\n",
    "\n",
    "import random\n",
    "\n",
    "llst = [1, 2, 3, 4, 5, 6, 7, 8, 9]\n",
    "print(\"main list:\",llst)\n",
    "random.shuffle(llst)\n",
    "\n",
    "print(\"after randomize:\",llst)"
   ]
  },
  {
   "cell_type": "code",
   "execution_count": null,
   "id": "4078163b-ed63-45f7-bebf-4727b175e816",
   "metadata": {},
   "outputs": [],
   "source": [
    "#71)What is File function in python? What are keywords to create and write file.\n",
    "\n",
    "\"\"\"\n",
    "In python file function is part of a web application.\n",
    "there are several keywords to create and write a file.\n",
    "To create a file keyword is 'x' and for write file is 'w'.\n",
    "\"\"\""
   ]
  },
  {
   "cell_type": "code",
   "execution_count": 4,
   "id": "08ab7164-5a17-48d5-b3c8-77c2ff332fb4",
   "metadata": {},
   "outputs": [
    {
     "name": "stdout",
     "output_type": "stream",
     "text": [
      "hello python\n"
     ]
    }
   ],
   "source": [
    "#72)Write a Python program to read an entire text file.\n",
    "\n",
    "a = open(\"txtxt.txt\",\"r\")\n",
    "print(a.read())"
   ]
  },
  {
   "cell_type": "code",
   "execution_count": 143,
   "id": "765bba65-551a-48b0-b0be-1f828d3c485d",
   "metadata": {},
   "outputs": [
    {
     "name": "stdout",
     "output_type": "stream",
     "text": [
      "abcdefxyz\n",
      "hiii python\n"
     ]
    }
   ],
   "source": [
    "#73)Write a Python program to append text to a file and display the text.\n",
    "\n",
    "a1 = open(\"txtxt.txt\",\"a\")\n",
    "a1.write(\"\\nhiii python\")\n",
    "a1.close()\n",
    "\n",
    "a = open(\"txtxt.txt\",\"r\")\n",
    "print(a.read())"
   ]
  },
  {
   "cell_type": "code",
   "execution_count": 145,
   "id": "d66fcd85-bc24-4290-bf6b-aed99b1c2ce5",
   "metadata": {},
   "outputs": [
    {
     "name": "stdout",
     "output_type": "stream",
     "text": [
      "abcdefxyz\n",
      "\n"
     ]
    }
   ],
   "source": [
    "#74)Write a Python program to read first n lines of a file.\n",
    "\n",
    "a = open(\"txtxt.txt\",\"r\")\n",
    "print(a.readline())"
   ]
  },
  {
   "cell_type": "code",
   "execution_count": 15,
   "id": "1a682918-f9a5-4306-9f1c-bc24a2eeff00",
   "metadata": {},
   "outputs": [
    {
     "name": "stdout",
     "output_type": "stream",
     "text": [
      "hiii python\n"
     ]
    }
   ],
   "source": [
    "#75)Write a Python program to read last n lines of a file.\n",
    "\n",
    "a = open(\"txtxt.txt\",\"r\")\n",
    "x= list(a.readlines())\n",
    "print(x[-1])"
   ]
  },
  {
   "cell_type": "code",
   "execution_count": 149,
   "id": "c52d6921-6165-4403-9f7f-f10e4a889265",
   "metadata": {},
   "outputs": [
    {
     "name": "stdout",
     "output_type": "stream",
     "text": [
      "list: ['abcdefxyz\\n', 'hiii python']\n"
     ]
    }
   ],
   "source": [
    "#76)Write a Python program to read a file line by line and store it into a list.\n",
    "\n",
    "a = open(\"txtxt.txt\",\"r\")\n",
    "x= list(a.readlines())\n",
    "print(\"list:\",x)"
   ]
  },
  {
   "cell_type": "code",
   "execution_count": 151,
   "id": "0fb17a1e-823d-470c-ba5f-2c755e930842",
   "metadata": {},
   "outputs": [
    {
     "name": "stdout",
     "output_type": "stream",
     "text": [
      "['abcdefxyz', 'hiii python']\n"
     ]
    }
   ],
   "source": [
    "#77)Write a Python program to read a file line by line store it into a variable.\n",
    "\n",
    "lst = [] \n",
    "\n",
    "a1 = open(\"txtxt.txt\", 'r')\n",
    "\n",
    "for lin in a1:\n",
    "    lst.append(lin.strip())  \n",
    "print(lst)\n"
   ]
  },
  {
   "cell_type": "code",
   "execution_count": 153,
   "id": "15cd67df-d048-4859-8737-bcb0e86bb031",
   "metadata": {},
   "outputs": [
    {
     "name": "stdout",
     "output_type": "stream",
     "text": [
      "Large word:  abcdefxyz\n"
     ]
    }
   ],
   "source": [
    "#78)Write a python program to find the longest words.\n",
    "\n",
    "a2 = open(\"txtxt.txt\", 'r')\n",
    "ls = (a2.read())\n",
    "x=ls.split()\n",
    "x\n",
    "\n",
    "maxx=max(x,key=len)\n",
    "print(\"Large word: \",maxx)"
   ]
  },
  {
   "cell_type": "code",
   "execution_count": 17,
   "id": "0bb2297f-2bb6-47b5-905b-3bad3c36198c",
   "metadata": {},
   "outputs": [
    {
     "name": "stdout",
     "output_type": "stream",
     "text": [
      "count lines:  2\n"
     ]
    }
   ],
   "source": [
    "#79)Write a Python program to count the number of lines in a text file.\n",
    "\n",
    "a2 = open(\"txtxt.txt\", 'r')\n",
    "x1 = len(a2.readlines())\n",
    "print(\"count lines: \",x1)"
   ]
  },
  {
   "cell_type": "code",
   "execution_count": 157,
   "id": "a5c4aa3a-0783-488d-aec1-7dd65a3e55db",
   "metadata": {},
   "outputs": [
    {
     "name": "stdout",
     "output_type": "stream",
     "text": [
      "{'abcdefxyz': 1, 'hiii': 1, 'python': 1}\n"
     ]
    }
   ],
   "source": [
    "#80)Write a Python program to count the frequency of words in a file.\n",
    "\n",
    "def countt(s1):\n",
    "    cou = {}\n",
    "    for i in s1:\n",
    "        if i in cou:\n",
    "            cou[i] += 1 \n",
    "        else:\n",
    "            cou[i] = 1  \n",
    "    \n",
    "    return cou\n",
    "\n",
    "a3 = open(\"txtxt.txt\", 'r')\n",
    "ls = (a3.read())\n",
    "z=ls.split()\n",
    "z\n",
    "z1 =(z)\n",
    "print(countt(z1))"
   ]
  },
  {
   "cell_type": "code",
   "execution_count": 205,
   "id": "84ae4f70-adaa-455d-af92-d2605fce8f4c",
   "metadata": {},
   "outputs": [
    {
     "name": "stdout",
     "output_type": "stream",
     "text": [
      "abc\tdef\txyz\tabc\tdef\txyz\t\n"
     ]
    }
   ],
   "source": [
    "#81)Write a Python program to write a list to a file.\n",
    "\n",
    "lsta=[\"abc\",\"def\",\"xyz\",\"abc\",\"def\",\"xyz\"]\n",
    "\n",
    "a1 = open(\"txtxt1.txt\",\"w\")\n",
    "for i in lsta:\n",
    "    a1.write(i+\"\\t\")\n",
    "a1.close()\n",
    "\n",
    "a = open(\"txtxt1.txt\",\"r\")\n",
    "print(a.read())"
   ]
  },
  {
   "cell_type": "code",
   "execution_count": 55,
   "id": "8d8fc4c0-10ad-459b-9042-0edc91b4bd4f",
   "metadata": {},
   "outputs": [
    {
     "data": {
      "text/plain": [
       "21"
      ]
     },
     "execution_count": 55,
     "metadata": {},
     "output_type": "execute_result"
    }
   ],
   "source": [
    "#82)Write a Python program to copy the contents of a file to another file.\n",
    "\n",
    "m1 = open(\"txtxt.txt\", 'r') \n",
    "\n",
    "m2 = open(\"copy.txt\",'w') \n",
    "m2.write(m1.read())"
   ]
  },
  {
   "cell_type": "code",
   "execution_count": 61,
   "id": "6de6a821-a850-4421-84cf-8fb39985805e",
   "metadata": {},
   "outputs": [
    {
     "name": "stdout",
     "output_type": "stream",
     "text": [
      "abcdefxyz\n",
      "hiii python\n"
     ]
    }
   ],
   "source": [
    "m3 = open(\"copy.txt\",'r') \n",
    "print(m3.read())"
   ]
  },
  {
   "cell_type": "code",
   "execution_count": null,
   "id": "41a466d4-f2d6-4937-9c4f-68a512a1bc22",
   "metadata": {},
   "outputs": [],
   "source": [
    "#83)Explain Exception handling? What is an Error in Python?\n",
    "\n",
    "\"\"\"\n",
    "In Python, when an error occurs, Python will generate an error message , exceptions are assigned by try statement.  \n",
    "In Python, Errors are problems in a program that causes the program to stop its execution.\n",
    "\"\"\""
   ]
  },
  {
   "cell_type": "code",
   "execution_count": 3,
   "id": "c0045828-ea37-494d-a277-b62d8cebe325",
   "metadata": {},
   "outputs": [
    {
     "name": "stdout",
     "output_type": "stream",
     "text": [
      "Cannot divide by zero.\n"
     ]
    }
   ],
   "source": [
    "#84)How many except statements can a try-except block have? Name Some built-in exception classes:\n",
    "\n",
    "\"\"\"\n",
    "A try-except block in Python can have multiple except statements.\n",
    "This allows you to handle different types of exceptions separately.\n",
    "There is no strict limit to the number of except blocks you can have, as long as they are logically organized\n",
    "\"\"\"\n",
    "\"\"\"\n",
    "some built-in exception:\n",
    "ZeroDivisionError: Raised when dividing by zero.\n",
    "TypeError: Raised when an operation or function is applied to an object of inappropriate type.\n",
    "ValueError: Raised when a function receives an argument of the correct type but an inappropriate value.\n",
    "\"\"\"\n",
    "try:\n",
    "    x = 1 / 0\n",
    "except ZeroDivisionError:\n",
    "    print(\"Cannot divide by zero.\")\n",
    "except TypeError:\n",
    "    print(\"Type error occurred.\")\n"
   ]
  },
  {
   "cell_type": "code",
   "execution_count": 7,
   "id": "1ea3e7a1-07af-4f98-af3b-b37c95126dce",
   "metadata": {},
   "outputs": [
    {
     "name": "stdout",
     "output_type": "stream",
     "text": [
      "No exception\n"
     ]
    }
   ],
   "source": [
    "#85)When will the else part of try-except-else be executed?\n",
    "\"\"\"\n",
    "The else part of a try-except-else block is executed only if no exception is raised in the try block.\n",
    "\"\"\"\n",
    "try:\n",
    "    x = 10 / 2 \n",
    "except ZeroDivisionError:\n",
    "    print(\"Division by zero.\")\n",
    "else:\n",
    "    print(\"No exception\") \n"
   ]
  },
  {
   "cell_type": "code",
   "execution_count": 9,
   "id": "891cfdfb-c31c-4193-976a-cc0de0b56cc7",
   "metadata": {},
   "outputs": [
    {
     "name": "stdout",
     "output_type": "stream",
     "text": [
      "Cannot divide by zero.\n"
     ]
    }
   ],
   "source": [
    "#86)Can one block of except statements handle multiple exception?\n",
    "\"\"\"\n",
    "A try-except block in Python can have multiple except statements.\n",
    "This allows you to handle different types of exceptions separately.\n",
    "There is no strict limit to the number of except blocks you can have, as long as they are logically organized\n",
    "\"\"\"\n",
    "try:\n",
    "    x = 1 / 0\n",
    "except ZeroDivisionError:\n",
    "    print(\"Cannot divide by zero.\")\n",
    "except TypeError:\n",
    "    print(\"Type error occurred.\")"
   ]
  },
  {
   "cell_type": "code",
   "execution_count": 11,
   "id": "aaafeed1-d9a2-4851-bc31-f78e8f870a1e",
   "metadata": {},
   "outputs": [
    {
     "name": "stdout",
     "output_type": "stream",
     "text": [
      "This will always be executed.\n"
     ]
    }
   ],
   "source": [
    "#87)When is the finally block executed?\n",
    "\"\"\"\n",
    "The finally block is always executed no matter what — whether an exception is raised or not,\n",
    "and whether it is caught or not. It runs after the try and except blocks,\n",
    "and even if there is a return, break, or continue statement in the try or except blocks.\n",
    "\"\"\"\n",
    "try:\n",
    "    x = 10 / 2 \n",
    "except ZeroDivisionError:\n",
    "    print(\"Error: Division by zero.\")\n",
    "finally:\n",
    "    print(\"This will always be executed.\") \n"
   ]
  },
  {
   "cell_type": "code",
   "execution_count": null,
   "id": "a940f4a0-b284-45ab-89b9-ffadb6584bc7",
   "metadata": {},
   "outputs": [],
   "source": [
    "#88)What happens when „1‟== 1 is executed?\n",
    "\n",
    "try:\n",
    "    result = '1' == 1\n",
    "    print(result)\n",
    "except TypeError:\n",
    "    print(\"Type Error\")\n",
    "\n",
    "\"\"\"\n",
    "'1' is a string (text) and 1 is an integer (number).\n",
    "Python checks if they are the same.\n",
    "Since a string is different from an integer, the result is False.\n",
    "\"\"\""
   ]
  },
  {
   "cell_type": "code",
   "execution_count": 13,
   "id": "7311d0b5-e40f-4d46-8380-f6f8a8b44f5a",
   "metadata": {},
   "outputs": [
    {
     "name": "stdin",
     "output_type": "stream",
     "text": [
      "Enter a number:  0\n"
     ]
    },
    {
     "name": "stdout",
     "output_type": "stream",
     "text": [
      "Error: Cannot divide by zero.\n",
      "This will always execute.\n"
     ]
    }
   ],
   "source": [
    "#89)How Do You Handle Exceptions with Try/Except/Finally in Python? Explain with coding snippets.\n",
    "\"\"\"\n",
    "try: Place code that might raise an exception inside the try block.\n",
    "except: Catch and handle specific exceptions in the except block.\n",
    "finally: Execute code that should always run, regardless of whether an exception occurred.\n",
    "\"\"\"\n",
    "try:\n",
    "    num = int(input(\"Enter a number: \"))\n",
    "    result = 10 / num  \n",
    "except ZeroDivisionError:\n",
    "    print(\"Error: Cannot divide by zero.\")\n",
    "except ValueError:\n",
    "    print(\"Error: Invalid input, please enter a number.\")\n",
    "finally:\n",
    "    print(\"This will always execute.\")\n"
   ]
  },
  {
   "cell_type": "code",
   "execution_count": 36,
   "id": "31ffad86-c7df-40ef-a4c4-87e534ca2178",
   "metadata": {},
   "outputs": [
    {
     "name": "stdin",
     "output_type": "stream",
     "text": [
      "Enter odd number:  10\n"
     ]
    },
    {
     "name": "stdout",
     "output_type": "stream",
     "text": [
      "<class 'ValueError'>\n"
     ]
    }
   ],
   "source": [
    "#90)Write python program that user to enter only odd numbers, else will raise an exception.\n",
    "\n",
    "try:\n",
    "    n = int(input(\"Enter odd number: \"))\n",
    "    if n % 2 == 0:\n",
    "        raise (ValueError(\"Error: The number is not odd!\"))\n",
    "    print(f\"odd number: {n}\")\n",
    "except ValueError:\n",
    "    print(ValueError)"
   ]
  }
 ],
 "metadata": {
  "kernelspec": {
   "display_name": "Python 3 (ipykernel)",
   "language": "python",
   "name": "python3"
  },
  "language_info": {
   "codemirror_mode": {
    "name": "ipython",
    "version": 3
   },
   "file_extension": ".py",
   "mimetype": "text/x-python",
   "name": "python",
   "nbconvert_exporter": "python",
   "pygments_lexer": "ipython3",
   "version": "3.12.7"
  }
 },
 "nbformat": 4,
 "nbformat_minor": 5
}
